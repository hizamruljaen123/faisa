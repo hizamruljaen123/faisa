{
  "cells": [
    {
      "cell_type": "code",
      "execution_count": null,
      "metadata": {
        "id": "y9IGz_mAn2Z6"
      },
      "outputs": [],
      "source": [
        "import re #pola kata\n",
        "import json #kelola data response dari tokopedia\n",
        "import requests #minta request ke situs tokopedia\n",
        "from bs4 import BeautifulSoup #scraping data\n",
        "\n",
        "\n",
        "# Header For Request\n",
        "HEADERS = {\n",
        "    'accept': '*/*',\n",
        "    'content-type': 'application/json',\n",
        "    'origin': 'https://www.tokopedia.com',\n",
        "    'sec-ch-ua': '\"Not)A;Brand\";v=\"99\", \"Google Chrome\";v=\"127\", \"Chromium\";v=\"127\"',\n",
        "    'sec-ch-ua-mobile': '?0',\n",
        "    'sec-ch-ua-platform': '\"Windows\"',\n",
        "    'sec-fetch-dest': 'empty',\n",
        "    'sec-fetch-mode': 'cors',\n",
        "    'sec-fetch-site': 'same-site',\n",
        "    'user-agent': 'Mozilla/5.0 (Windows NT 10.0; Win64; x64) AppleWebKit/537.36 (KHTML, like Gecko) Chrome/127.0.0.0 Safari/537.36',\n",
        "    'x-source': 'tokopedia-lite',\n",
        "    'x-tkpd-lite-service': 'zeus',\n",
        "}\n",
        "\n",
        "def get_shop_id(shop_domain):\n",
        "  \"\"\"\n",
        "  Cari ShopID berdasarkan nama domain toko e.g : wardah-offical untuk wardah dari https://www.tokopedia.com/wardah-official\n",
        "  Kembalikan ShopID, namaShop, ratingShop\n",
        "  \"\"\"\n",
        "  url = \"https://gql.tokopedia.com/graphql/ShopInfoCore\"\n",
        "  data= [\n",
        "    {\n",
        "        \"operationName\": \"ShopInfoCore\",\n",
        "        \"variables\": {\n",
        "            \"id\": 0,\n",
        "            \"domain\": shop_domain\n",
        "        },\n",
        "        \"query\": \"\"\"\n",
        "        query ShopInfoCore($id: Int!, $domain: String) {\n",
        "          shopInfoByID(input: {shopIDs: [$id], fields: [\"active_product\", \"allow_manage_all\", \"assets\", \"core\", \"closed_info\", \"create_info\", \"favorite\", \"location\", \"status\", \"is_open\", \"other-goldos\", \"shipment\", \"shopstats\", \"shop-snippet\", \"other-shiploc\", \"shopHomeType\", \"branch-link\", \"goapotik\", \"fs_type\"], domain: $domain, source: \"shoppage\"}) {\n",
        "            result {\n",
        "              shopCore {\n",
        "                description\n",
        "                domain\n",
        "                shopID\n",
        "                name\n",
        "                tagLine\n",
        "                defaultSort\n",
        "                __typename\n",
        "              }\n",
        "              createInfo {\n",
        "                openSince\n",
        "                __typename\n",
        "              }\n",
        "              favoriteData {\n",
        "                totalFavorite\n",
        "                alreadyFavorited\n",
        "                __typename\n",
        "              }\n",
        "              activeProduct\n",
        "              shopAssets {\n",
        "                avatar\n",
        "                cover\n",
        "                __typename\n",
        "              }\n",
        "              location\n",
        "              isAllowManage\n",
        "              branchLinkDomain\n",
        "              isOpen\n",
        "              shipmentInfo {\n",
        "                isAvailable\n",
        "                image\n",
        "                name\n",
        "                product {\n",
        "                  isAvailable\n",
        "                  productName\n",
        "                  uiHidden\n",
        "                  __typename\n",
        "                }\n",
        "                __typename\n",
        "              }\n",
        "              shippingLoc {\n",
        "                districtName\n",
        "                cityName\n",
        "                __typename\n",
        "              }\n",
        "              shopStats {\n",
        "                productSold\n",
        "                totalTxSuccess\n",
        "                totalShowcase\n",
        "                __typename\n",
        "              }\n",
        "              statusInfo {\n",
        "                shopStatus\n",
        "                statusMessage\n",
        "                statusTitle\n",
        "                tickerType\n",
        "                __typename\n",
        "              }\n",
        "              closedInfo {\n",
        "                closedNote\n",
        "                until\n",
        "                reason\n",
        "                detail {\n",
        "                  status\n",
        "                  __typename\n",
        "                }\n",
        "                __typename\n",
        "              }\n",
        "              bbInfo {\n",
        "                bbName\n",
        "                bbDesc\n",
        "                bbNameEN\n",
        "                bbDescEN\n",
        "                __typename\n",
        "              }\n",
        "              goldOS {\n",
        "                isGold\n",
        "                isGoldBadge\n",
        "                isOfficial\n",
        "                badge\n",
        "                shopTier\n",
        "                __typename\n",
        "              }\n",
        "              shopSnippetURL\n",
        "              customSEO {\n",
        "                title\n",
        "                description\n",
        "                bottomContent\n",
        "                __typename\n",
        "              }\n",
        "              isQA\n",
        "              isGoApotik\n",
        "              partnerInfo {\n",
        "                fsType\n",
        "                __typename\n",
        "              }\n",
        "              __typename\n",
        "            }\n",
        "            error {\n",
        "              message\n",
        "              __typename\n",
        "            }\n",
        "            __typename\n",
        "          }\n",
        "        }\n",
        "        \"\"\"\n",
        "    }\n",
        "]\n",
        "  response = requests.post(url, headers=HEADERS, json=data)\n",
        "  try:\n",
        "    return response.json()[0]['data']['shopInfoByID']['result'][0]['shopCore']['shopID']\n",
        "  except:\n",
        "    return 0\n",
        "\n",
        "def get_reviews_data(shop_id, page=1, limit=10, sort_by=\"\", filter_by=\"rating=1,2,3,4,5\"):\n",
        "  \"\"\" Ambil reviews data dari tokopedia \"\"\"\n",
        "  url = 'https://gql.tokopedia.com/graphql/ReviewList'\n",
        "  data = [{\n",
        "      \"operationName\": \"ReviewList\",\n",
        "      \"variables\": {\n",
        "          \"shopID\": shop_id,\n",
        "          \"page\": page,\n",
        "          \"limit\": limit,\n",
        "          \"sortBy\": sort_by,\n",
        "          \"filterBy\": filter_by\n",
        "      },\n",
        "      \"query\": \"\"\"\n",
        "      query ReviewList($shopID: String!, $limit: Int!, $page: Int!, $filterBy: String, $sortBy: String) {\n",
        "          productrevGetShopReviewReadingList(shopID: $shopID, limit: $limit, page: $page, filterBy: $filterBy, sortBy: $sortBy) {\n",
        "              list {\n",
        "                  id: reviewID\n",
        "                  product {\n",
        "                      productID\n",
        "                      productName\n",
        "                      productPageURL\n",
        "                      productStatus\n",
        "                  }\n",
        "                  rating\n",
        "                  reviewTime\n",
        "                  reviewText\n",
        "                  reviewerID\n",
        "                  reviewerName\n",
        "                  replyText\n",
        "                  replyTime\n",
        "                  badRatingReasonFmt\n",
        "              }\n",
        "              hasNext\n",
        "              shopName\n",
        "              totalReviews\n",
        "          }\n",
        "      }\n",
        "      \"\"\"\n",
        "  }]\n",
        "\n",
        "  response = requests.post(url, headers=HEADERS, json=data)\n",
        "  return response.json()"
      ]
    },
    {
      "cell_type": "code",
      "execution_count": null,
      "metadata": {
        "id": "nAcvE2gv9mq2"
      },
      "outputs": [],
      "source": [
        "# cari toko wardah\n",
        "shopID = get_shop_id('wardah-official')"
      ]
    },
    {
      "cell_type": "code",
      "execution_count": null,
      "metadata": {
        "colab": {
          "base_uri": "https://localhost:8080/",
          "height": 35
        },
        "id": "Is4-dvrZwwUk",
        "outputId": "498d0498-4f1f-4bb4-bdd3-26fd920b3ebb"
      },
      "outputs": [],
      "source": [
        "#ambil shop ID\n",
        "shopID"
      ]
    },
    {
      "cell_type": "code",
      "execution_count": null,
      "metadata": {
        "id": "838cTsVVgB-I"
      },
      "outputs": [],
      "source": [
        "# Test 1 data\n",
        "json_log = get_reviews_data(shopID, page=1, limit=1)"
      ]
    },
    {
      "cell_type": "code",
      "execution_count": null,
      "metadata": {
        "colab": {
          "base_uri": "https://localhost:8080/"
        },
        "id": "r11je0vz2FGP",
        "outputId": "0b194e76-7a40-4559-f2b9-b8f73053adf9"
      },
      "outputs": [],
      "source": [
        "json_log"
      ]
    },
    {
      "cell_type": "markdown",
      "metadata": {
        "id": "jx35z9zey4fS"
      },
      "source": [
        "## 10.000 data"
      ]
    },
    {
      "cell_type": "code",
      "execution_count": null,
      "metadata": {
        "id": "RZMmygV9y7Px"
      },
      "outputs": [],
      "source": [
        "data = []\n",
        "\n",
        "def rekursif_scrape(shop_id, start=1, limit=10, iteration=10, max_retries=5, rating=5, sort_order=\"desc\"):\n",
        "    \"\"\" ambil komentar berdasarkan paginasi dengan retry mechanism \"\"\"\n",
        "    retries = 0\n",
        "\n",
        "    while retries < max_retries:\n",
        "        try:\n",
        "            json_log = get_reviews_data(shop_id, page=start, limit=limit, sort_by=f\"create_time {sort_order}\", filter_by=f\"rating={rating}\")\n",
        "            data.extend(json_log[0]['data']['productrevGetShopReviewReadingList']['list'])\n",
        "            has_next = json_log[0]['data']['productrevGetShopReviewReadingList']['hasNext']\n",
        "            if has_next:\n",
        "                rekursif_scrape(shop_id, start=start+1, limit=limit, iteration=iteration, max_retries=max_retries, rating=rating, sort_order=sort_order)\n",
        "            else:\n",
        "                retries = max_retries\n",
        "            break\n",
        "        except TypeError:\n",
        "            print('Terjadi kesalahan', json_log)\n",
        "            retries += 1\n",
        "            if retries == max_retries:\n",
        "                print(f\"Gagal mengambil data setelah {max_retries} percobaan pada halaman {start} dengan rating={rating} dan sort_order={sort_order}\")\n",
        "\n",
        "    if retries == max_retries:\n",
        "        if rating > 1:\n",
        "            rekursif_scrape(shop_id, start=1, limit=limit, iteration=iteration, max_retries=max_retries, rating=rating-1, sort_order=sort_order)\n",
        "        elif rating == 1 and sort_order == \"desc\":\n",
        "            rekursif_scrape(shop_id, start=1, limit=limit, iteration=iteration, max_retries=max_retries, rating=5, sort_order=\"asc\")\n",
        "        elif rating == 1 and sort_order == \"asc\":\n",
        "            print(\"Semua data sudah diambil atau tidak ada data yang bisa diambil.\")\n",
        "            return None\n"
      ]
    },
    {
      "cell_type": "code",
      "execution_count": null,
      "metadata": {
        "colab": {
          "base_uri": "https://localhost:8080/"
        },
        "id": "9bY84xoKB8Va",
        "outputId": "fd19c052-ba8c-475a-9fda-db1d3b2780ac"
      },
      "outputs": [],
      "source": [
        "# Contoh pemanggilan fungsi, ambil 500 data tiap paginasi dengan pindah paginasi sebanyak 10x\n",
        "rekursif_scrape(shopID, limit=10, iteration=1, max_retries=1)"
      ]
    },
    {
      "cell_type": "code",
      "execution_count": null,
      "metadata": {
        "colab": {
          "base_uri": "https://localhost:8080/"
        },
        "id": "nJQHb8GSCBmk",
        "outputId": "76872e14-deef-4d31-c521-1b5ec07dfb20"
      },
      "outputs": [],
      "source": [
        "data"
      ]
    },
    {
      "cell_type": "code",
      "execution_count": null,
      "metadata": {
        "colab": {
          "base_uri": "https://localhost:8080/"
        },
        "id": "RB581Gj73OiA",
        "outputId": "e7a6d9bf-230e-4c19-cabf-9466046a12bc"
      },
      "outputs": [],
      "source": [
        "# periksa jumlah data\n",
        "len(data)"
      ]
    },
    {
      "cell_type": "code",
      "execution_count": null,
      "metadata": {
        "id": "vxnWfjpo7Gu1"
      },
      "outputs": [],
      "source": [
        "nama_toko = None\n",
        "rating_toko = None\n",
        "user_name = data[0]['reviewerName']\n",
        "user_review = data[0]['reviewText']\n",
        "user_rating = data[0]['rating']\n",
        "user_product = data[0]['product']['productName']\n",
        "user_date =  data[0]['reviewTime']"
      ]
    },
    {
      "cell_type": "code",
      "execution_count": null,
      "metadata": {
        "colab": {
          "base_uri": "https://localhost:8080/",
          "height": 35
        },
        "id": "Rj1OKNr-8eJG",
        "outputId": "3fbc4e52-6f8b-4710-e05e-81249d881bc3"
      },
      "outputs": [],
      "source": [
        "user_review"
      ]
    },
    {
      "cell_type": "code",
      "execution_count": null,
      "metadata": {
        "id": "Re0-o17O8ha-"
      },
      "outputs": [],
      "source": [
        "# buat data ke tabulasi\n",
        "import pandas as pd\n",
        "df = pd.DataFrame(data)"
      ]
    },
    {
      "cell_type": "markdown",
      "metadata": {
        "id": "vDFrm9WeQ3YM"
      },
      "source": []
    },
    {
      "cell_type": "code",
      "execution_count": null,
      "metadata": {
        "colab": {
          "base_uri": "https://localhost:8080/",
          "height": 649
        },
        "id": "Zja0JbmTzznW",
        "outputId": "88dc8884-9073-4d3d-ccb9-7bd37dbb2f21"
      },
      "outputs": [],
      "source": [
        "df['reviewTime'].value_counts()"
      ]
    },
    {
      "cell_type": "code",
      "execution_count": null,
      "metadata": {
        "colab": {
          "base_uri": "https://localhost:8080/",
          "height": 272
        },
        "id": "rUiMDAchz4FP",
        "outputId": "f9c04f38-5cd9-47e7-fbe4-5678f66faf00"
      },
      "outputs": [],
      "source": [
        "df['rating'].value_counts()\n"
      ]
    },
    {
      "cell_type": "code",
      "execution_count": null,
      "metadata": {
        "id": "pXXY0QrDIRZ5"
      },
      "outputs": [],
      "source": [
        "#save to excel\n",
        "df.to_excel('data.xlsx')"
      ]
    },
    {
      "cell_type": "markdown",
      "metadata": {
        "id": "4BuTdCJEyvTM"
      },
      "source": [
        "## 4500 Data"
      ]
    },
    {
      "cell_type": "code",
      "execution_count": null,
      "metadata": {
        "id": "ogBfGR1C2016"
      },
      "outputs": [],
      "source": [
        "# data = []\n",
        "\n",
        "# def rekursif_scrape(shop_id, start=1, limit=10, iteration=10, max_retries=5):\n",
        "#     \"\"\" ambil komentar berdasarkan paginasi dengan retry mechanism \"\"\"\n",
        "#     if start >= iteration:\n",
        "#         return None\n",
        "\n",
        "#     retries = 0\n",
        "\n",
        "#     while retries < max_retries:\n",
        "#         try:\n",
        "#             json_log = get_reviews_data(shop_id, page=start, limit=limit, sort_by=\"create_time desc\", filter_by=\"rating=5\")\n",
        "#             data.extend(json_log[0]['data']['productrevGetShopReviewReadingList']['list'])\n",
        "#             has_next = json_log[0]['data']['productrevGetShopReviewReadingList']['hasNext']\n",
        "#             break\n",
        "#         except TypeError:\n",
        "#             print('Terjadi kesalahan', json_log)\n",
        "#             has_next = False\n",
        "#             retries += 1\n",
        "#             if retries == max_retries:\n",
        "#                 print(f\"Gagal mengambil data setelah {max_retries} percobaan pada halaman {start}\")\n",
        "#                 return None\n",
        "\n",
        "#     if has_next:\n",
        "#         rekursif_scrape(shop_id, start=start+1, limit=limit, iteration=iteration, max_retries=max_retries)\n",
        "#     else:\n",
        "#         return None\n",
        "\n",
        "# # Contoh pemanggilan fungsi, ambil 500 data tiap paginasi dengan pindah paginasi sebanyak 10x\n",
        "# rekursif_scrape(shopID, limit=500, iteration=10)"
      ]
    }
  ],
  "metadata": {
    "colab": {
      "provenance": []
    },
    "kernelspec": {
      "display_name": "base",
      "language": "python",
      "name": "python3"
    },
    "language_info": {
      "codemirror_mode": {
        "name": "ipython",
        "version": 3
      },
      "file_extension": ".py",
      "mimetype": "text/x-python",
      "name": "python",
      "nbconvert_exporter": "python",
      "pygments_lexer": "ipython3",
      "version": "3.11.7"
    }
  },
  "nbformat": 4,
  "nbformat_minor": 0
}
